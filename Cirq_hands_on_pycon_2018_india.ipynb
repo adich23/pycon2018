{
  "nbformat": 4,
  "nbformat_minor": 0,
  "metadata": {
    "colab": {
      "name": "Cirq_hands_on_pycon_2018_india.ipynb",
      "version": "0.3.2",
      "provenance": [],
      "collapsed_sections": [
        "PvJCA3e0QsuI",
        "J9ia4eatUQ_x"
      ]
    },
    "kernelspec": {
      "display_name": "Python [default]",
      "language": "python",
      "name": "python3"
    }
  },
  "cells": [
    {
      "metadata": {
        "id": "8m9ye4AS6dE4",
        "colab_type": "text"
      },
      "cell_type": "markdown",
      "source": [
        "![Cirq](https://github.com/quantumlib/cirq/raw/master/docs/Cirq_logo_color.svg?sanitize=true=)\n",
        "\n",
        "[Cirq](https://github.com/quantumlib/cirq) is a framework for writing quantum algorithms for noisy intermediate scale quantum (NISQ) devices. Roughly speaking, NISQ devices are those with O(100) qubits that can enact O(1000) gates.  Because the resources for NISQ devices are so constrained we believe that a framework for writing programs on these devices needs to be aware of all of the architectural properties of the device on which the algorithm is written. This is in contrast to other frameworks where there is a clean separation between the abstract model being used and the details of the device.  \n",
        "\n",
        "In this tutorial we will cover the basics of writing quantum algorithms in Cirq.\n",
        "\n",
        "---\n",
        "\n"
      ]
    },
    {
      "metadata": {
        "id": "P2OBc27Elddh",
        "colab_type": "toc"
      },
      "cell_type": "markdown",
      "source": [
        ">>>[Core Concepts: Qubits, Moments, Operations, and Circuits](#scrollTo=8A7a3jcql1l5)\n",
        "\n",
        ">>>[Create a Circuit](#scrollTo=VFwmWPf7D057)\n",
        "\n",
        ">>>[Building Circuits (InsertStrategy)](#scrollTo=uaDb6B_jPgrb)\n",
        "\n",
        ">>>[Exercise: Create a circuit](#scrollTo=y9conKPAPn26)\n",
        "\n",
        ">>>[Simulate a Circuit](#scrollTo=X15yPl_KQ20Z)\n",
        "\n",
        ">>>[Parameterized Circuits](#scrollTo=3HtlMxa6QpVo)\n",
        "\n",
        ">>>[Rabi-flop experiment](#scrollTo=r-CjbPwkRI_I)\n",
        "\n",
        ">>>[Devices](#scrollTo=PvJCA3e0QsuI)\n",
        "\n",
        ">>>[Compiling / Optimizing](#scrollTo=J9ia4eatUQ_x)\n",
        "\n",
        ">>>[Exercise: Simplify flipped CNOTs](#scrollTo=--aUfkiaUb3S)\n",
        "\n"
      ]
    },
    {
      "metadata": {
        "id": "RlJBDvNgC00H",
        "colab_type": "code",
        "colab": {
          "base_uri": "https://localhost:8080/",
          "height": 457
        },
        "outputId": "8b02039b-1eb5-4cbd-d952-e9bc8e7b239d"
      },
      "cell_type": "code",
      "source": [
        "!pip install cirq"
      ],
      "execution_count": 1,
      "outputs": [
        {
          "output_type": "stream",
          "text": [
            "Requirement already satisfied: cirq in /usr/local/lib/python3.6/dist-packages (0.3.1.35)\n",
            "Requirement already satisfied: requests~=2.18 in /usr/local/lib/python3.6/dist-packages (from cirq) (2.18.4)\n",
            "Requirement already satisfied: matplotlib~=2.2 in /usr/local/lib/python3.6/dist-packages (from cirq) (2.2.3)\n",
            "Requirement already satisfied: google-api-python-client~=1.6 in /usr/local/lib/python3.6/dist-packages (from cirq) (1.6.7)\n",
            "Requirement already satisfied: scipy~=1.1.0 in /usr/local/lib/python3.6/dist-packages (from cirq) (1.1.0)\n",
            "Requirement already satisfied: sortedcontainers~=2.0 in /usr/local/lib/python3.6/dist-packages (from cirq) (2.0.5)\n",
            "Requirement already satisfied: numpy~=1.14 in /usr/local/lib/python3.6/dist-packages (from cirq) (1.14.6)\n",
            "Requirement already satisfied: protobuf~=3.5 in /usr/local/lib/python3.6/dist-packages (from cirq) (3.6.1)\n",
            "Requirement already satisfied: certifi>=2017.4.17 in /usr/local/lib/python3.6/dist-packages (from requests~=2.18->cirq) (2018.8.24)\n",
            "Requirement already satisfied: chardet<3.1.0,>=3.0.2 in /usr/local/lib/python3.6/dist-packages (from requests~=2.18->cirq) (3.0.4)\n",
            "Requirement already satisfied: urllib3<1.23,>=1.21.1 in /usr/local/lib/python3.6/dist-packages (from requests~=2.18->cirq) (1.22)\n",
            "Requirement already satisfied: idna<2.7,>=2.5 in /usr/local/lib/python3.6/dist-packages (from requests~=2.18->cirq) (2.6)\n",
            "Requirement already satisfied: python-dateutil>=2.1 in /usr/local/lib/python3.6/dist-packages (from matplotlib~=2.2->cirq) (2.5.3)\n",
            "Requirement already satisfied: pytz in /usr/local/lib/python3.6/dist-packages (from matplotlib~=2.2->cirq) (2018.5)\n",
            "Requirement already satisfied: pyparsing!=2.0.4,!=2.1.2,!=2.1.6,>=2.0.1 in /usr/local/lib/python3.6/dist-packages (from matplotlib~=2.2->cirq) (2.2.1)\n",
            "Requirement already satisfied: kiwisolver>=1.0.1 in /usr/local/lib/python3.6/dist-packages (from matplotlib~=2.2->cirq) (1.0.1)\n",
            "Requirement already satisfied: six>=1.10 in /usr/local/lib/python3.6/dist-packages (from matplotlib~=2.2->cirq) (1.11.0)\n",
            "Requirement already satisfied: cycler>=0.10 in /usr/local/lib/python3.6/dist-packages (from matplotlib~=2.2->cirq) (0.10.0)\n",
            "Requirement already satisfied: uritemplate<4dev,>=3.0.0 in /usr/local/lib/python3.6/dist-packages (from google-api-python-client~=1.6->cirq) (3.0.0)\n",
            "Requirement already satisfied: httplib2<1dev,>=0.9.2 in /usr/local/lib/python3.6/dist-packages (from google-api-python-client~=1.6->cirq) (0.11.3)\n",
            "Requirement already satisfied: oauth2client<5.0.0dev,>=1.5.0 in /usr/local/lib/python3.6/dist-packages (from google-api-python-client~=1.6->cirq) (4.1.3)\n",
            "Requirement already satisfied: setuptools in /usr/local/lib/python3.6/dist-packages (from protobuf~=3.5->cirq) (39.1.0)\n",
            "Requirement already satisfied: rsa>=3.1.4 in /usr/local/lib/python3.6/dist-packages (from oauth2client<5.0.0dev,>=1.5.0->google-api-python-client~=1.6->cirq) (4.0)\n",
            "Requirement already satisfied: pyasn1-modules>=0.0.5 in /usr/local/lib/python3.6/dist-packages (from oauth2client<5.0.0dev,>=1.5.0->google-api-python-client~=1.6->cirq) (0.2.2)\n",
            "Requirement already satisfied: pyasn1>=0.1.7 in /usr/local/lib/python3.6/dist-packages (from oauth2client<5.0.0dev,>=1.5.0->google-api-python-client~=1.6->cirq) (0.4.4)\n"
          ],
          "name": "stdout"
        }
      ]
    },
    {
      "metadata": {
        "id": "GPjUqrK8DJTq",
        "colab_type": "text"
      },
      "cell_type": "markdown",
      "source": [
        "To verify that Cirq is installed in your environment, try to `import cirq` and print out a diagram of the Foxtail device. It should produce a 2x11 grid of qubits."
      ]
    },
    {
      "metadata": {
        "id": "FTrmLyq4C2gf",
        "colab_type": "code",
        "colab": {
          "base_uri": "https://localhost:8080/",
          "height": 84
        },
        "outputId": "cf22f4eb-8f5d-4d04-b519-44489f1bdaa1"
      },
      "cell_type": "code",
      "source": [
        "import cirq\n",
        "print(cirq.google.Foxtail)"
      ],
      "execution_count": 2,
      "outputs": [
        {
          "output_type": "stream",
          "text": [
            "(0, 0)───(0, 1)───(0, 2)───(0, 3)───(0, 4)───(0, 5)───(0, 6)───(0, 7)───(0, 8)───(0, 9)───(0, 10)\n",
            "│        │        │        │        │        │        │        │        │        │        │\n",
            "│        │        │        │        │        │        │        │        │        │        │\n",
            "(1, 0)───(1, 1)───(1, 2)───(1, 3)───(1, 4)───(1, 5)───(1, 6)───(1, 7)───(1, 8)───(1, 9)───(1, 10)\n"
          ],
          "name": "stdout"
        }
      ]
    },
    {
      "metadata": {
        "id": "7tjF6iEKLjS7",
        "colab_type": "text"
      },
      "cell_type": "markdown",
      "source": [
        "...\n",
        "\n",
        "...\n",
        "\n",
        "(pause for everyone to get this working)\n",
        "\n",
        "...\n",
        "\n",
        "..."
      ]
    },
    {
      "metadata": {
        "id": "EWvtpKyqVwmr",
        "colab_type": "text"
      },
      "cell_type": "markdown",
      "source": [
        "Be aware that Cirq is still alpha software, meaning **we are still making breaking changes all the time**. If you don't want your project to suddenly go from working to not working when we release a new version, you should depend on a *specific version* of Cirq and periodically bump that version to the latest one. For the purposes of this tutorial, we are just using the latest version."
      ]
    },
    {
      "metadata": {
        "id": "8A7a3jcql1l5",
        "colab_type": "text"
      },
      "cell_type": "markdown",
      "source": [
        "### Core Concepts: Qubits, Moments, Operations, and Circuits\n",
        " \n",
        " In Cirq, circuits are represented either by a `Circuit` object or a `Schedule` object. `Schedule`s offer more control over quantum gates and circuits at the timing level.\n",
        "\n",
        "Conceptually: a `Circuit` is a collection of `Moment`s. A `Moment` is a collection of `Operation`s that all act during the same abstract time slice. An `Operation` is a an effect that operates on a specific subset of Qubits. The most common type of `Operation` is a `Gate` applied to several qubits (a \"`GateOperation`\"). The following diagram should help illustrate these concepts.\n",
        "\n",
        "![Circuits, Moments, and Operations.](https://cirq.readthedocs.io/en/latest/_images/CircuitMomentOperation.png)"
      ]
    },
    {
      "metadata": {
        "id": "VFwmWPf7D057",
        "colab_type": "text"
      },
      "cell_type": "markdown",
      "source": [
        "### Create a Circuit\n",
        "\n",
        "Let's create a `Circuit`.  Note that in the installing section we imported cirq, so we will assume that cirq has been imported throughout the rest of this notebook."
      ]
    },
    {
      "metadata": {
        "id": "pE88WsFeDGfs",
        "colab_type": "code",
        "colab": {
          "base_uri": "https://localhost:8080/",
          "height": 101
        },
        "outputId": "30acc7ef-26b1-432b-f4d7-d0cd4b51f424"
      },
      "cell_type": "code",
      "source": [
        "a = cirq.NamedQubit(\"a\")\n",
        "b = cirq.NamedQubit(\"b\")\n",
        "c = cirq.NamedQubit(\"c\")\n",
        "ops = [cirq.H(a), cirq.H(b), cirq.CNOT(b, c), cirq.H(b)]\n",
        "circuit = cirq.Circuit.from_ops(ops)\n",
        "print(circuit)"
      ],
      "execution_count": 3,
      "outputs": [
        {
          "output_type": "stream",
          "text": [
            "a: ───H───────────\n",
            "\n",
            "b: ───H───@───H───\n",
            "          │\n",
            "c: ───────X───────\n"
          ],
          "name": "stdout"
        }
      ]
    },
    {
      "metadata": {
        "id": "-06jQwEdI4DJ",
        "colab_type": "text"
      },
      "cell_type": "markdown",
      "source": [
        "We can unpack this a bit and see all of the components for the circuit.\n",
        "\n",
        "\n",
        "The first thing we do is pick some qubits to use. There are many different types of qubits in Cirq, and you can define your own by inheriting from the `cirq.QubitId` class. There's nothing inherently special or magical about the qubit types. They simply identify what you wish to operate on, which is relevant when you are targeting a specific device. For example, if we were creating a circuit for the FoxTail device we would use `cirq.GridQubit(0, 0)` to refer to the qubit in the top-left position of the device. To keep these simple for now, we'll start with abstract qubits simply identified by a name such as \"a\".\n",
        "```\n",
        "a = cirq.NamedQubit(\"a\")\n",
        "```\n",
        "\n",
        "Next we encounter the object `cirq.H`, which is a Hadamard gate.  `cirq.H` is an instance of the `cirq.HGate` class, which itself is a subclass of `Gate` (along with other classes). \n",
        "$$H = {1 \\over \\sqrt{2}} \\left[ \\begin{array}[cc]  & 1 & 1  \\\\ 1 & -1 \\end{array}\\right]$$\n",
        "\n",
        "`Gate` objects have the ability to applied \"on\" to one or more qubits.  There are two ways to do this for gates, either using the `on` method or by directly calling the gate on the qubits as if the gate were a function and the qubits were arguments.  For example to apply the `H` onto qubit `a` we can say\n",
        "```\n",
        "cirq.H.on(a)\n",
        "```\n",
        "or \n",
        "```\n",
        "cirq.H(a)\n",
        "```\n",
        "\n",
        "The result of those expressions is a `GateOperation` object, which is a type of `Operation`. `Operation`s are what we use to make up a `Circuit`. Once you have a collection of operations, you can construct a `Circuit` using the class method `Circuit.from_ops` (more on that in a minute):\n",
        "```\n",
        "circuit = cirq.Circuit.from_ops(ops)\n",
        "```\n",
        "The last thing we did in the example code was use the (surprisingly useful) ability to print the circuit as a text diagram.\n",
        "\n",
        "The diagram is visually helpful, but it doesn't really get into the internal details of how the `Circuit` is represented. \n",
        "A `Circuit` is made up of a sequence of `Moment` objects.\n",
        "And each `Moment` object is a list of non-overlapping `Operation`s.\n",
        "To see this internal structure, we can iterate over the `Moment`s in the `Circuit` while printing them out."
      ]
    },
    {
      "metadata": {
        "id": "hH-y4JiEMv25",
        "colab_type": "code",
        "colab": {
          "base_uri": "https://localhost:8080/",
          "height": 67
        },
        "outputId": "f914e28d-9349-4f27-ac20-7091de98ce9d"
      },
      "cell_type": "code",
      "source": [
        "for i, moment in enumerate(circuit):\n",
        "    print('Moment {}: {}'.format(i, moment))"
      ],
      "execution_count": 4,
      "outputs": [
        {
          "output_type": "stream",
          "text": [
            "Moment 0: H(a) and H(b)\n",
            "Moment 1: CNOT(b, c)\n",
            "Moment 2: H(b)\n"
          ],
          "name": "stdout"
        }
      ]
    },
    {
      "metadata": {
        "id": "pm5iC7MNQY6-",
        "colab_type": "text"
      },
      "cell_type": "markdown",
      "source": [
        "We can also just print the circuit's `repr`, which returns a somewhat more detailed (if less readable) expression."
      ]
    },
    {
      "metadata": {
        "id": "2Y6zG_peQG1y",
        "colab_type": "code",
        "colab": {
          "base_uri": "https://localhost:8080/",
          "height": 84
        },
        "outputId": "9a3ab047-9bb9-4936-90fc-c2c9e02bdfdc"
      },
      "cell_type": "code",
      "source": [
        "print(repr(circuit))"
      ],
      "execution_count": 6,
      "outputs": [
        {
          "output_type": "stream",
          "text": [
            "Circuit([\n",
            "    Moment((GateOperation(H, (NamedQubit('a'),)), GateOperation(H, (NamedQubit('b'),)))),\n",
            "    Moment((GateOperation(CNOT, (NamedQubit('b'), NamedQubit('c'))),)),\n",
            "    Moment((GateOperation(H, (NamedQubit('b'),)),))])\n"
          ],
          "name": "stdout"
        }
      ]
    },
    {
      "metadata": {
        "id": "zyVbU8yfW_qi",
        "colab_type": "text"
      },
      "cell_type": "markdown",
      "source": [
        "The usefulness of printing the `repr` is that it includes *all* the gory details.\n",
        "In fact, it is valid python code that will evaluate to exactly the circuit we created.\n",
        "(... Except that it's missing the prefix \"`cirq.`\" everywhere.\n",
        "That will be fixed in the next version.\n",
        "Also it will be a bit more compact; using `G(q)` instead of `GateOperation(G, (q,))`.)"
      ]
    },
    {
      "metadata": {
        "id": "uaDb6B_jPgrb",
        "colab_type": "text"
      },
      "cell_type": "markdown",
      "source": [
        "### Building Circuits (InsertStrategy)\n",
        "\n",
        "Above we created the `Circuit` using `from_ops`.  But there are many ways to construct and modify circuits, and each of these is useful in different contexts.  Here are a few examples:\n",
        "\n",
        "\n",
        "1.   `from_ops`: This is the simplest way to make a circuit. Give this method some operations, and out pops a circuit.\n",
        "2.  `append`:  `Circuit`s are mutable. You can start with an empty `c = cirq.Circuit()` and simply `c.append(operations)` to add on more and more operations \n",
        "3. `insert`:  Instead of appending, you can insert before a particular moment location (labeled by an integer index)\n",
        "4.  By using `Circuit`'s constructor, which takes a list of `Moment`s. Each `Moment` must be explicitly constructed with its own list of `Operation`s. This is tedious, but gives complete control over how the operations are layed out."
      ]
    },
    {
      "metadata": {
        "id": "p9LUxAU41wWs",
        "colab_type": "text"
      },
      "cell_type": "markdown",
      "source": [
        "You may have noticed that there is a hole in what we've explained so far.\n",
        "`from_ops` effectively takes a 1-dimensional sequence of operations, but the output is a 2-dimensional circuit (a list-of-lists-of-operations).\n",
        "There is a degree of freedom that hasn't been account for: how does cirq choose the moment that each operation will be placed within?\n",
        "The answer is: it depends on the  `InsertStrategy` you choose.\n",
        "\n",
        "There are currently four insertion strategies in Cirq:\n",
        "\n",
        "1.  `InsertStrategy.EARLIEST`\n",
        "2. `InsertStrategy.NEW`,\n",
        "3. `InsertStrategy.INLINE`\n",
        "4. `InsertStrategy.NEW_THEN_INLINE` (currently the default)\n",
        "\n",
        "`InsertStrategy.EARLIEST` is defined as\n",
        "> `InsertStrategy.EARLIEST`: Scans backward from the insert\n",
        "> location until a moment with operations touching qubits affected by the\n",
        "> operation to insert is found. The operation is added into the moment just\n",
        "> after that location.\n",
        "\n",
        "For example, if we first create an `Operation` in a single moment,\n",
        "and then use `InsertStrategy.EARLIEST` the `Operation` can slide back to this\n",
        "first `Moment` if there is space\n",
        "\n",
        "An `InsertStrategy` defines how ``Operations`` are placed in a `Circuit` when requested to be inserted at a given location.\n",
        "Here a `location` is identified by the index of the `Moment` in the `Circuit` that operations should be placed before (in the case of `Circuit.append` this means inserting at the index `len(circuit)`; which is one more than the largets moment index and so represents the end of the circuit).\n",
        "\n",
        "Let's define a method that prints out a circuit as it is being built with a specified strategy, and see what happens when we use the `EARLIEST` strategy."
      ]
    },
    {
      "metadata": {
        "id": "wNek1WjpX4MR",
        "colab_type": "code",
        "colab": {
          "base_uri": "https://localhost:8080/",
          "height": 370
        },
        "outputId": "de3030c4-ca5c-4672-f7a2-1e43828593d9"
      },
      "cell_type": "code",
      "source": [
        "def make_with_strategy(strategy):\n",
        "    ops = [cirq.X(b), cirq.CZ(b, c), cirq.Y(c), cirq.Z(a)]\n",
        "    circuit = cirq.Circuit()\n",
        "    print(\"strategy:\", strategy)\n",
        "    for op in ops:\n",
        "        circuit.append(op, strategy=strategy)\n",
        "        print(\"\\nafter appending\", op)\n",
        "        print(circuit)\n",
        "        \n",
        "make_with_strategy(cirq.InsertStrategy.EARLIEST)"
      ],
      "execution_count": 7,
      "outputs": [
        {
          "output_type": "stream",
          "text": [
            "strategy: EARLIEST\n",
            "\n",
            "after appending X(b)\n",
            "b: ───X───\n",
            "\n",
            "after appending CZ(b, c)\n",
            "b: ───X───@───\n",
            "          │\n",
            "c: ───────@───\n",
            "\n",
            "after appending Y(c)\n",
            "b: ───X───@───────\n",
            "          │\n",
            "c: ───────@───Y───\n",
            "\n",
            "after appending Z(a)\n",
            "a: ───Z───────────\n",
            "\n",
            "b: ───X───@───────\n",
            "          │\n",
            "c: ───────@───Y───\n"
          ],
          "name": "stdout"
        }
      ]
    },
    {
      "metadata": {
        "id": "TcHeZM6qXvbS",
        "colab_type": "text"
      },
      "cell_type": "markdown",
      "source": [
        "Note how the `Z` gate ended up happening before the `CZ` gate, even though it was appended last.\n",
        "Whereas the `Y` gate could not move past the `CZ` and so was placed in the moment after the `CZ`.\n",
        "\n",
        "Contrast this with the `InsertStrategy.NEW` `InsertStrategy`:\n",
        "> `InsertStrategy.NEW`: Every operation that is inserted is\n",
        "> created in a new moment.\n"
      ]
    },
    {
      "metadata": {
        "id": "eOx8DWTeYTMJ",
        "colab_type": "code",
        "colab": {
          "base_uri": "https://localhost:8080/",
          "height": 370
        },
        "outputId": "32d1f2cf-d830-4e24-dd4b-5cecc6900822"
      },
      "cell_type": "code",
      "source": [
        "make_with_strategy(cirq.InsertStrategy.NEW)"
      ],
      "execution_count": 8,
      "outputs": [
        {
          "output_type": "stream",
          "text": [
            "strategy: NEW\n",
            "\n",
            "after appending X(b)\n",
            "b: ───X───\n",
            "\n",
            "after appending CZ(b, c)\n",
            "b: ───X───@───\n",
            "          │\n",
            "c: ───────@───\n",
            "\n",
            "after appending Y(c)\n",
            "b: ───X───@───────\n",
            "          │\n",
            "c: ───────@───Y───\n",
            "\n",
            "after appending Z(a)\n",
            "a: ───────────────Z───\n",
            "\n",
            "b: ───X───@───────────\n",
            "          │\n",
            "c: ───────@───Y───────\n"
          ],
          "name": "stdout"
        }
      ]
    },
    {
      "metadata": {
        "id": "Qq1EYNlNYP0Z",
        "colab_type": "text"
      },
      "cell_type": "markdown",
      "source": [
        "Here every operator processed by the append ends up in a new moment.\n",
        "`InsertStrategy.NEW` is most useful when you are inserting a single operation and\n",
        "don't want it to get mixed into other ``Moments``.\n",
        "\n",
        "Another strategy is `InsertStrategy.INLINE`:\n",
        "> `InsertStrategy.INLINE`: Attempts to add the operation to\n",
        "> insert into the moment just before the desired insert location. But, if\n",
        "> there's already an existing operation affecting any of the qubits touched\n",
        "> by the operation to insert, a new moment is created instead."
      ]
    },
    {
      "metadata": {
        "id": "qWVDhLxFYuRp",
        "colab_type": "code",
        "colab": {
          "base_uri": "https://localhost:8080/",
          "height": 370
        },
        "outputId": "3efec6dc-81fe-439c-e036-ac1cac5b96e2"
      },
      "cell_type": "code",
      "source": [
        "make_with_strategy(cirq.InsertStrategy.INLINE)"
      ],
      "execution_count": 9,
      "outputs": [
        {
          "output_type": "stream",
          "text": [
            "strategy: INLINE\n",
            "\n",
            "after appending X(b)\n",
            "b: ───X───\n",
            "\n",
            "after appending CZ(b, c)\n",
            "b: ───X───@───\n",
            "          │\n",
            "c: ───────@───\n",
            "\n",
            "after appending Y(c)\n",
            "b: ───X───@───────\n",
            "          │\n",
            "c: ───────@───Y───\n",
            "\n",
            "after appending Z(a)\n",
            "a: ───────────Z───\n",
            "\n",
            "b: ───X───@───────\n",
            "          │\n",
            "c: ───────@───Y───\n"
          ],
          "name": "stdout"
        }
      ]
    },
    {
      "metadata": {
        "id": "5fP2xbFMLjTW",
        "colab_type": "text"
      },
      "cell_type": "markdown",
      "source": [
        "The `Z` gate ends up in the final moment because there is room, but is not moved backwards any further than that. `INLINE` is useful when you want your operations to stay roughly where you put them, but to pack a little better than `NEW`.\n",
        "\n",
        "The final strategy, and currently the default (though this is likely to change) is `NEW_THEN_INLINE`. If you are appending operations one at a time, `NEW_THEN_INLINE` behaves exactly like `NEW`. But `append` doesn't just take individual operations, it also takes lists of operations. And when you specify a list, `NEW_THEN_INLINE` will insert the first item in a new moment and then inline later operations into that moment. It's useful when you want to keep operations from the same append near each other in the circuit."
      ]
    },
    {
      "metadata": {
        "id": "AeUPNOxmLjTX",
        "colab_type": "text"
      },
      "cell_type": "markdown",
      "source": [
        "Note that `from_ops`, `append`, and `insert` don't just take indivual operations and lists of operations.\n",
        "They take anything that can be iteratively flattened into a sequence of operations.\n",
        "You can call these methods with some pretty complicated stuff, and it will just work.\n",
        "For example, let's make a generator function that yields a generator function yielding operations and tuples of operations and pass that into one of the `Circuit` methods."
      ]
    },
    {
      "metadata": {
        "id": "QFoV-eOE1tGN",
        "colab_type": "code",
        "colab": {
          "base_uri": "https://localhost:8080/",
          "height": 168
        },
        "outputId": "63ef6f1a-8e9f-4014-c191-26bac844adfd"
      },
      "cell_type": "code",
      "source": [
        "def xor_swap(a, b):\n",
        "  yield cirq.CNOT(a, b), cirq.CNOT(b, a)\n",
        "  yield cirq.CNOT(a, b)\n",
        "\n",
        "def left_rotate(qubits):\n",
        "    for i in range(len(qubits) - 1):\n",
        "        a, b = qubits[i:i+2]\n",
        "        yield xor_swap(a, b)\n",
        "\n",
        "line = cirq.LineQubit.range(5)\n",
        "print(cirq.Circuit.from_ops(left_rotate(line)))"
      ],
      "execution_count": 10,
      "outputs": [
        {
          "output_type": "stream",
          "text": [
            "0: ───@───X───@───────────────────────────────────────\n",
            "      │   │   │\n",
            "1: ───X───@───X───@───X───@───────────────────────────\n",
            "                  │   │   │\n",
            "2: ───────────────X───@───X───@───X───@───────────────\n",
            "                              │   │   │\n",
            "3: ───────────────────────────X───@───X───@───X───@───\n",
            "                                          │   │   │\n",
            "4: ───────────────────────────────────────X───@───X───\n"
          ],
          "name": "stdout"
        }
      ]
    },
    {
      "metadata": {
        "id": "y9conKPAPn26",
        "colab_type": "text"
      },
      "cell_type": "markdown",
      "source": [
        "The ability to create circuits with generators is very convenient. It allows you to modularize your circuit-creation code into functions in a natural pythonic way.\n",
        "\n",
        "\n",
        "### Exercise: Create a circuit\n",
        "\n",
        "Now that you've learned about `InsertStrategy`, here is an exercise to validate your understanding.  Create the following circuit using as few `append` calls as possible.\n",
        "\n",
        "```\n",
        "a: ───@───H───────────H───H───\n",
        "      │\n",
        "b: ───@───────H───@───H───────\n",
        "                  │\n",
        "c: ───H───────────@───────────\n",
        "```\n",
        "\n",
        "(A note of caution: printing a circuit in Cirq does not always print a momeent by moment structure. In particular, if a moment has operations that would overlap in the diagram, an extra column is introduced to avoid the overlap. But here imagine that you want exactly the moments indicated by the spacing of the circuit.)"
      ]
    },
    {
      "metadata": {
        "id": "jP4VkPeHcjJT",
        "colab_type": "code",
        "colab": {
          "base_uri": "https://localhost:8080/",
          "height": 34
        },
        "outputId": "de0e7167-40ae-4b08-a4a8-6e6309df23bd"
      },
      "cell_type": "code",
      "source": [
        "circuit = cirq.Circuit()\n",
        "\n",
        "# Modify this append call, and add more append calls, to produce the above circuit\n",
        "circuit.append([])\n",
        "#1st cluster with earliest\n",
        "#2nd with New-Inline Strategy\n",
        "...\n",
        "\n",
        "print(circuit)"
      ],
      "execution_count": 11,
      "outputs": [
        {
          "output_type": "stream",
          "text": [
            "\n"
          ],
          "name": "stdout"
        }
      ]
    },
    {
      "metadata": {
        "id": "X15yPl_KQ20Z",
        "colab_type": "text"
      },
      "cell_type": "markdown",
      "source": [
        "### Simulate a Circuit\n",
        "\n",
        "Now that you know how to construct a `Circuit` in Cirq, let's use Cirq to simulate the circuit.\n",
        "\n",
        "Here is a simple circuit"
      ]
    },
    {
      "metadata": {
        "id": "V6tZk3qGqBoH",
        "colab_type": "code",
        "colab": {
          "base_uri": "https://localhost:8080/",
          "height": 67
        },
        "outputId": "968aa314-d2ad-4d22-833a-4cb259059750"
      },
      "cell_type": "code",
      "source": [
        "def basic_circuit(meas=True):\n",
        "    sqrt_x = cirq.X**0.5\n",
        "    yield sqrt_x(a), sqrt_x(b)\n",
        "    yield cirq.CZ(a, b)\n",
        "    yield sqrt_x(a), sqrt_x(b)\n",
        "    if meas:\n",
        "        yield cirq.measure(a, b)\n",
        "        \n",
        "circuit = cirq.Circuit.from_ops(basic_circuit())\n",
        "print(circuit)"
      ],
      "execution_count": 12,
      "outputs": [
        {
          "output_type": "stream",
          "text": [
            "a: ───X^0.5───@───X^0.5───M───\n",
            "              │           │\n",
            "b: ───X^0.5───@───X^0.5───M───\n"
          ],
          "name": "stdout"
        }
      ]
    },
    {
      "metadata": {
        "id": "WpywVOeDqi4Q",
        "colab_type": "text"
      },
      "cell_type": "markdown",
      "source": [
        "There are a few things to note here.  \n",
        "\n",
        "First, we are using power (`**`) notation for the first time.\n",
        "`cirq.X**0.5` is the square root of X gate (specifically: the square root you get when using the right hand rule).\n",
        "This notation allows you to specify partial rotations without having to multiply by `np.pi` everywhere.\n",
        "You can also raise an operation to a power after applying it to a qubit, such as `cirq.X(a)**0.5` instead of `(cirq.X**0.5).on(a)`.\n",
        "\n",
        "Second, we have included a multi-qubit measurement gate in our circuit.\n",
        "When we run the circuit, we will be given sample results for this measurement.\n",
        "\n",
        "Now we can simulate this circuit using `cirq.google.XmonSimulator`."
      ]
    },
    {
      "metadata": {
        "id": "KmGuMjvGw_Ef",
        "colab_type": "code",
        "colab": {
          "base_uri": "https://localhost:8080/",
          "height": 34
        },
        "outputId": "3d80f82e-6400-4a82-f8ff-0a61e0d949ac"
      },
      "cell_type": "code",
      "source": [
        "simulator = cirq.google.XmonSimulator()\n",
        "result = simulator.run(circuit, repetitions=15)\n",
        "print(result)"
      ],
      "execution_count": 15,
      "outputs": [
        {
          "output_type": "stream",
          "text": [
            "a,b=100111100000000, 111000110000100\n"
          ],
          "name": "stdout"
        }
      ]
    },
    {
      "metadata": {
        "id": "aHugx9T0z047",
        "colab_type": "text"
      },
      "cell_type": "markdown",
      "source": [
        "Running this multiple times will result in different measurement results each time, since the above circuit produces a superposition over all computational basis states.  \n",
        "\n",
        "Above we used the `run` method on the simulator. The `run` methods mimic the actual hardware in that they don't give one access to unphysical objects like the wavefunction.  If one wants to get the wave function, then the `simulate` methods can do this:\n"
      ]
    },
    {
      "metadata": {
        "id": "Apj7WiFZ0WFm",
        "colab_type": "code",
        "colab": {
          "base_uri": "https://localhost:8080/",
          "height": 34
        },
        "outputId": "69109147-c2d2-40ed-9783-b0b4234372cd"
      },
      "cell_type": "code",
      "source": [
        "import numpy as np\n",
        "circuit = cirq.Circuit.from_ops(basic_circuit(False))\n",
        "result = simulator.simulate(circuit, qubit_order=[a, b]).final_state\n",
        "\n",
        "print(np.around(result, 3))"
      ],
      "execution_count": 16,
      "outputs": [
        {
          "output_type": "stream",
          "text": [
            "[-0.5-0.j   0. -0.5j  0. -0.5j -0.5+0.j ]\n"
          ],
          "name": "stdout"
        }
      ]
    },
    {
      "metadata": {
        "id": "1ZOduCfFLjTt",
        "colab_type": "text"
      },
      "cell_type": "markdown",
      "source": [
        "There is another way to simulate circuits, by calling `circuit.apply_unitary_effect_to`. Currently, ironically, this method is faster than the dedicated simulator class. That will change in the future."
      ]
    },
    {
      "metadata": {
        "id": "yq110VkrLjTt",
        "colab_type": "code",
        "colab": {
          "base_uri": "https://localhost:8080/",
          "height": 34
        },
        "outputId": "d0c3eb41-6f30-4f47-95a8-d15b292a67d5"
      },
      "cell_type": "code",
      "source": [
        "result2 = circuit.apply_unitary_effect_to_state(initial_state=0b000)\n",
        "print(np.around(result2, 3))"
      ],
      "execution_count": 17,
      "outputs": [
        {
          "output_type": "stream",
          "text": [
            "[0.5+0.j  0. +0.5j 0. +0.5j 0.5+0.j ]\n"
          ],
          "name": "stdout"
        }
      ]
    },
    {
      "metadata": {
        "id": "Ou95nVPrLjTw",
        "colab_type": "text"
      },
      "cell_type": "markdown",
      "source": [
        "Note that the results from the two simulators have differing global phase, but are otherwise equivalent. This is because the `XmonSimulator` is automatically decomposing the gates we used into the gate set available on the actual quantum hardware, and the decompositions do not preserve global phase. Cirq provides methods such as `cirq.allclose_up_to_global_phase` to make this easier to deal with."
      ]
    },
    {
      "metadata": {
        "id": "NIbmTD1qLjTw",
        "colab_type": "code",
        "colab": {
          "base_uri": "https://localhost:8080/",
          "height": 50
        },
        "outputId": "77538b95-4555-48e5-ea95-d4dd5044025b"
      },
      "cell_type": "code",
      "source": [
        "print(np.allclose(result, result2))\n",
        "print(cirq.allclose_up_to_global_phase(result, result2))\n"
      ],
      "execution_count": 18,
      "outputs": [
        {
          "output_type": "stream",
          "text": [
            "False\n",
            "True\n"
          ],
          "name": "stdout"
        }
      ]
    },
    {
      "metadata": {
        "id": "t18-sIJc0cvf",
        "colab_type": "text"
      },
      "cell_type": "markdown",
      "source": [
        "Notice that we passed a qubit_order into the `simulate` method.  This order defines the order of the kronecker product used in the resulting `final_state` vector. The `qubit_order` argument is optional. When it is omitted, qubits are ordered ascending by their name (i.e. what their `__str__` method returns).\n",
        "\n",
        "The simplest `qubit_order` value you can provide is a list of the qubits in the desired ordered. Any qubits from the circuit  that are not in the list will be ordered using the  default `__str__` ordering, but come after qubits that are in the list. Be aware that all qubits in the list are included in the simulation, even if they are not operated on by the circuit.\n",
        "\n",
        "The mapping from the order of the qubits to the order of the  amplitudes in the wave function can be tricky to understand. \n",
        "Basically, it is the same as the ordering used by `numpy.kron`:"
      ]
    },
    {
      "metadata": {
        "id": "xAdp245K08jd",
        "colab_type": "code",
        "colab": {
          "base_uri": "https://localhost:8080/",
          "height": 34
        },
        "outputId": "ad27a555-87ac-4056-e0be-10d9b7bf3907"
      },
      "cell_type": "code",
      "source": [
        "first = [1, 1000]\n",
        "second = [1, 2]\n",
        "print(np.kron(first, second))"
      ],
      "execution_count": 19,
      "outputs": [
        {
          "output_type": "stream",
          "text": [
            "[   1    2 1000 2000]\n"
          ],
          "name": "stdout"
        }
      ]
    },
    {
      "metadata": {
        "id": "AWHYdF4P0_-4",
        "colab_type": "text"
      },
      "cell_type": "markdown",
      "source": [
        "More concretely, the `k`'th amplitude in the wave function\n",
        "will correspond to the `k`'th case that would be encountered \n",
        "when nesting loops over the possible values of each qubit.\n",
        "The first qubit's computational basis values are looped over\n",
        "in the outermost loop, the last qubit's computational basis\n",
        "values are looped over in the inner-most loop, etc:"
      ]
    },
    {
      "metadata": {
        "id": "MNMJhxOy1D_N",
        "colab_type": "code",
        "colab": {
          "base_uri": "https://localhost:8080/",
          "height": 85
        },
        "outputId": "cfd0cb92-40b5-45f5-ce55-ea80e1ae11b1"
      },
      "cell_type": "code",
      "source": [
        "i = 0\n",
        "for first in [0, 1]:\n",
        "    for second in [0, 1]:\n",
        "        print('amps[{}] is for first={}, second={}'.format(i, first, second))\n",
        "        i += 1"
      ],
      "execution_count": 0,
      "outputs": [
        {
          "output_type": "stream",
          "text": [
            "amps[0] is for first=0, second=0\n",
            "amps[1] is for first=0, second=1\n",
            "amps[2] is for first=1, second=0\n",
            "amps[3] is for first=1, second=1\n"
          ],
          "name": "stdout"
        }
      ]
    },
    {
      "metadata": {
        "id": "L01WqKHMLjT8",
        "colab_type": "text"
      },
      "cell_type": "markdown",
      "source": [
        "The value returned by `simulator.run` is a `TrialResult`, which has utility methods such as `histogram`. `histogram` returns a python `Counter` saying how often various values were sampled."
      ]
    },
    {
      "metadata": {
        "id": "qOGW3xnmLjT8",
        "colab_type": "code",
        "colab": {
          "base_uri": "https://localhost:8080/",
          "height": 34
        },
        "outputId": "89373929-f403-4470-e8fe-c207c72b11a8"
      },
      "cell_type": "code",
      "source": [
        "circuit = cirq.Circuit.from_ops(basic_circuit())\n",
        "result = simulator.run(circuit, qubit_order=[a, b], repetitions=1000)\n",
        "print(result.histogram(key='a,b'))"
      ],
      "execution_count": 0,
      "outputs": [
        {
          "output_type": "stream",
          "text": [
            "Counter({2: 272, 3: 267, 0: 231, 1: 230})\n"
          ],
          "name": "stdout"
        }
      ]
    },
    {
      "metadata": {
        "id": "3HtlMxa6QpVo",
        "colab_type": "text"
      },
      "cell_type": "markdown",
      "source": [
        "### Parameterized Circuits\n",
        "\n",
        "In addition to circuit gates with fixed values, Cirq also  supports gates which can have `Symbol` value. These are values that can be resolved at *run-time*. For simulators these values are resolved by providing a `ParamResolver`.  A `ParamResolver` provides a map from the `Symbol`'s name to its assigned value."
      ]
    },
    {
      "metadata": {
        "id": "TIaVRzCD4deU",
        "colab_type": "code",
        "colab": {
          "base_uri": "https://localhost:8080/",
          "height": 187
        },
        "outputId": "f21d62e8-0c60-425c-bf9f-599540e316f0"
      },
      "cell_type": "code",
      "source": [
        "val = cirq.Symbol('s')\n",
        "x_s = cirq.google.ExpWGate(half_turns=val)\n",
        "circuit = cirq.Circuit.from_ops(x_s(a), x_s(b))\n",
        "print(circuit)\n",
        "print('\\nResults')\n",
        "for y in range(5):\n",
        "    resolver = cirq.ParamResolver({'s': y / 4.0})\n",
        "    result = simulator.simulate(circuit, resolver)\n",
        "    print('s={}: {}'.format(y, np.around(result.final_state, 2)))"
      ],
      "execution_count": 0,
      "outputs": [
        {
          "output_type": "stream",
          "text": [
            "a: ───X^s───\n",
            "\n",
            "b: ───X^s───\n",
            "\n",
            "Results\n",
            "s=0: [1.+0.j 0.+0.j 0.+0.j 0.+0.j]\n",
            "s=1: [ 0.85+0.j    0.  -0.35j  0.  -0.35j -0.15+0.j  ]\n",
            "s=2: [ 0.5+0.j   0. -0.5j  0. -0.5j -0.5+0.j ]\n",
            "s=3: [ 0.15+0.j    0.  -0.35j  0.  -0.35j -0.85+0.j  ]\n",
            "s=4: [ 0.+0.j  0.-0.j  0.-0.j -1.+0.j]\n"
          ],
          "name": "stdout"
        }
      ]
    },
    {
      "metadata": {
        "id": "1_2i73Oo4aM1",
        "colab_type": "text"
      },
      "cell_type": "markdown",
      "source": [
        "Here we see that the `Symbol` is used in two gates, and then the resolver\n",
        "provide this value at run time.\n",
        "\n",
        "Parameterized values are most useful in defining what we call a `Study`.  A `Study` is a collection of trials, where each  trial is a run with a particular set of configurations and which may be run repeatedly.  Running a study returns one  `TrialContext` and `TrialResult` per set of fixed parameter values and repetitions (which are reported as the ``repetition_id`` in the ``TrialContext`` object).  Example:\n"
      ]
    },
    {
      "metadata": {
        "id": "Gj_Y3Lrh49o9",
        "colab_type": "code",
        "colab": {
          "base_uri": "https://localhost:8080/",
          "height": 221
        },
        "outputId": "37ed3b17-489d-4a26-dbf9-81a3fd47724a"
      },
      "cell_type": "code",
      "source": [
        "resolvers = [cirq.ParamResolver({'s': y / 2.0}) for y in range(3)]\n",
        "circuit = cirq.Circuit()\n",
        "circuit.append([x_s(a), x_s(b)])\n",
        "circuit.append([cirq.measure(a), cirq.measure(b)])\n",
        "results = simulator.run_sweep(program=circuit,\n",
        "                              params=resolvers,\n",
        "                              repetitions=20)\n",
        "for result in results:\n",
        "    print('for s = {}:\\n{}\\n'.format(result.params['s'], result))\n"
      ],
      "execution_count": 0,
      "outputs": [
        {
          "output_type": "stream",
          "text": [
            "for s = 0.0:\n",
            "a=00000000000000000000\n",
            "b=00000000000000000000\n",
            "\n",
            "for s = 0.5:\n",
            "a=11001110010000010110\n",
            "b=10101010111000011001\n",
            "\n",
            "for s = 1.0:\n",
            "a=11111111111111111111\n",
            "b=11111111111111111111\n",
            "\n"
          ],
          "name": "stdout"
        }
      ]
    },
    {
      "metadata": {
        "id": "av09E7pH44YO",
        "colab_type": "text"
      },
      "cell_type": "markdown",
      "source": [
        "where we see that different runs for the case that the\n",
        "qubit has been rotated into a superposition over computational\n",
        "basis states yield different measurement results per run.\n",
        "Also note that we now see the use of the ``TrialContext`` returned as the first\n",
        "tuple from ``run``: it contains the ``param_dict`` describing what values were\n",
        "actually used in resolving the ``Symbol``s.\n",
        "\n",
        "Above we passed in a list of `ParamResolver`s to the `params` parameter of `run_sweep`.  But one can also pass in a `Sweepable`.  There are some useful methods for generating `Sweepable`s, for example to generate an equally spaced set of param resolvers one can use `Linspace`\n"
      ]
    },
    {
      "metadata": {
        "id": "zOymGxlb72Fk",
        "colab_type": "code",
        "colab": {
          "base_uri": "https://localhost:8080/",
          "height": 204
        },
        "outputId": "7771db4d-d3fa-4268-f6b4-210012f3efed"
      },
      "cell_type": "code",
      "source": [
        "linspace = cirq.Linspace(start=0, stop=1.0, length=11, key='x')\n",
        "for p in linspace:\n",
        "    print(p)"
      ],
      "execution_count": 0,
      "outputs": [
        {
          "output_type": "stream",
          "text": [
            "ParamResolver(OrderedDict([('x', 0.0)]))\n",
            "ParamResolver(OrderedDict([('x', 0.1)]))\n",
            "ParamResolver(OrderedDict([('x', 0.2)]))\n",
            "ParamResolver(OrderedDict([('x', 0.3)]))\n",
            "ParamResolver(OrderedDict([('x', 0.4)]))\n",
            "ParamResolver(OrderedDict([('x', 0.5)]))\n",
            "ParamResolver(OrderedDict([('x', 0.6)]))\n",
            "ParamResolver(OrderedDict([('x', 0.7)]))\n",
            "ParamResolver(OrderedDict([('x', 0.8)]))\n",
            "ParamResolver(OrderedDict([('x', 0.9)]))\n",
            "ParamResolver(OrderedDict([('x', 1.0)]))\n"
          ],
          "name": "stdout"
        }
      ]
    },
    {
      "metadata": {
        "id": "PvJCA3e0QsuI",
        "colab_type": "text"
      },
      "cell_type": "markdown",
      "source": [
        "### Devices\n",
        "\n",
        "NISQ algorithms work in a regime where every gate counts.  A key philosophy behind Cirq is that we believe the details of the hardware, the performance characteristics, as well as device constraings, will be key to getting the most out of NISQ algorithms.  Towards this end these hardware features are contained in the `Device` class.\n",
        "\n",
        "For example, here is Google's Bristlecone device"
      ]
    },
    {
      "metadata": {
        "id": "BmzxGpDB9jJ4",
        "colab_type": "code",
        "colab": {
          "base_uri": "https://localhost:8080/",
          "height": 544
        },
        "outputId": "84bdcbf9-ca29-4690-d552-b16aa02f5dd1"
      },
      "cell_type": "code",
      "source": [
        "print(cirq.google.Bristlecone)"
      ],
      "execution_count": 0,
      "outputs": [
        {
          "output_type": "stream",
          "text": [
            "                                             (0, 5)────(0, 6)\n",
            "                                             │         │\n",
            "                                             │         │\n",
            "                                    (1, 4)───(1, 5)────(1, 6)────(1, 7)\n",
            "                                    │        │         │         │\n",
            "                                    │        │         │         │\n",
            "                           (2, 3)───(2, 4)───(2, 5)────(2, 6)────(2, 7)───(2, 8)\n",
            "                           │        │        │         │         │        │\n",
            "                           │        │        │         │         │        │\n",
            "                  (3, 2)───(3, 3)───(3, 4)───(3, 5)────(3, 6)────(3, 7)───(3, 8)───(3, 9)\n",
            "                  │        │        │        │         │         │        │        │\n",
            "                  │        │        │        │         │         │        │        │\n",
            "         (4, 1)───(4, 2)───(4, 3)───(4, 4)───(4, 5)────(4, 6)────(4, 7)───(4, 8)───(4, 9)───(4, 10)\n",
            "         │        │        │        │        │         │         │        │        │        │\n",
            "         │        │        │        │        │         │         │        │        │        │\n",
            "(5, 0)───(5, 1)───(5, 2)───(5, 3)───(5, 4)───(5, 5)────(5, 6)────(5, 7)───(5, 8)───(5, 9)───(5, 10)───(5, 11)\n",
            "         │        │        │        │        │         │         │        │        │        │\n",
            "         │        │        │        │        │         │         │        │        │        │\n",
            "         (6, 1)───(6, 2)───(6, 3)───(6, 4)───(6, 5)────(6, 6)────(6, 7)───(6, 8)───(6, 9)───(6, 10)\n",
            "                  │        │        │        │         │         │        │        │\n",
            "                  │        │        │        │         │         │        │        │\n",
            "                  (7, 2)───(7, 3)───(7, 4)───(7, 5)────(7, 6)────(7, 7)───(7, 8)───(7, 9)\n",
            "                           │        │        │         │         │        │\n",
            "                           │        │        │         │         │        │\n",
            "                           (8, 3)───(8, 4)───(8, 5)────(8, 6)────(8, 7)───(8, 8)\n",
            "                                    │        │         │         │\n",
            "                                    │        │         │         │\n",
            "                                    (9, 4)───(9, 5)────(9, 6)────(9, 7)\n",
            "                                             │         │\n",
            "                                             │         │\n",
            "                                             (10, 5)───(10, 6)\n"
          ],
          "name": "stdout"
        }
      ]
    },
    {
      "metadata": {
        "id": "GGejgRf0AGni",
        "colab_type": "text"
      },
      "cell_type": "markdown",
      "source": [
        "`Device`s also contain more information about the timing of the device.  For example here we can calculate the duration of an `Exp11Gate` on the `Bristlecone` device"
      ]
    },
    {
      "metadata": {
        "id": "HAwdWkprAPXN",
        "colab_type": "code",
        "colab": {
          "base_uri": "https://localhost:8080/",
          "height": 34
        },
        "outputId": "6266eb80-9713-4b13-e0d9-51f2bfd51bbb"
      },
      "cell_type": "code",
      "source": [
        "brissy = cirq.google.Bristlecone\n",
        "op = cirq.google.Exp11Gate().on(cirq.GridQubit(5, 5))\n",
        "print(brissy.duration_of(op))"
      ],
      "execution_count": 0,
      "outputs": [
        {
          "output_type": "stream",
          "text": [
            "50ns\n"
          ],
          "name": "stdout"
        }
      ]
    },
    {
      "metadata": {
        "id": "IxnyURhnAdph",
        "colab_type": "text"
      },
      "cell_type": "markdown",
      "source": [
        "Note that the current duration information is just arbitrary numbers I entered for testing purposes. They are the right order of magnitude, but very much subject to change.\n",
        "\n",
        "Another property of devices is that they can be used to enforce constraints from the hardware, both checking that these constraints are satisfied, but also enforcing the constraints on the device.  For example on the `Bristlecone` device a two qubit gate has the property that one cannot simulatenously perform a two qubit gate that acts on the adjacent qubits.  So for example if we create such a `Circuit` and validate it using the device it will yell at us"
      ]
    },
    {
      "metadata": {
        "id": "r5F4FUtmA5kW",
        "colab_type": "code",
        "colab": {
          "base_uri": "https://localhost:8080/",
          "height": 555
        },
        "outputId": "e1204e0e-2dec-4634-ebf4-f4267e536529"
      },
      "cell_type": "code",
      "source": [
        "q55 = cirq.GridQubit(5, 5)\n",
        "q56 = cirq.GridQubit(5, 6)\n",
        "q66 = cirq.GridQubit(6, 6)\n",
        "q67 = cirq.GridQubit(6, 7)\n",
        "ops = [cirq.google.Exp11Gate()(q55, q56), cirq.google.Exp11Gate()(q66, q67)]\n",
        "circuit = cirq.Circuit.from_ops(ops)\n",
        "cirq.google.Bristlecone.validate_circuit(circuit)"
      ],
      "execution_count": 0,
      "outputs": [
        {
          "output_type": "error",
          "ename": "ValueError",
          "evalue": "ignored",
          "traceback": [
            "\u001b[0;31m---------------------------------------------------------------------------\u001b[0m",
            "\u001b[0;31mValueError\u001b[0m                                Traceback (most recent call last)",
            "\u001b[0;32m<ipython-input-25-c0ad32ca7f10>\u001b[0m in \u001b[0;36m<module>\u001b[0;34m()\u001b[0m\n\u001b[1;32m      5\u001b[0m \u001b[0mops\u001b[0m \u001b[0;34m=\u001b[0m \u001b[0;34m[\u001b[0m\u001b[0mcirq\u001b[0m\u001b[0;34m.\u001b[0m\u001b[0mgoogle\u001b[0m\u001b[0;34m.\u001b[0m\u001b[0mExp11Gate\u001b[0m\u001b[0;34m(\u001b[0m\u001b[0;34m)\u001b[0m\u001b[0;34m(\u001b[0m\u001b[0mq55\u001b[0m\u001b[0;34m,\u001b[0m \u001b[0mq56\u001b[0m\u001b[0;34m)\u001b[0m\u001b[0;34m,\u001b[0m \u001b[0mcirq\u001b[0m\u001b[0;34m.\u001b[0m\u001b[0mgoogle\u001b[0m\u001b[0;34m.\u001b[0m\u001b[0mExp11Gate\u001b[0m\u001b[0;34m(\u001b[0m\u001b[0;34m)\u001b[0m\u001b[0;34m(\u001b[0m\u001b[0mq66\u001b[0m\u001b[0;34m,\u001b[0m \u001b[0mq67\u001b[0m\u001b[0;34m)\u001b[0m\u001b[0;34m]\u001b[0m\u001b[0;34m\u001b[0m\u001b[0m\n\u001b[1;32m      6\u001b[0m \u001b[0mcircuit\u001b[0m \u001b[0;34m=\u001b[0m \u001b[0mcirq\u001b[0m\u001b[0;34m.\u001b[0m\u001b[0mCircuit\u001b[0m\u001b[0;34m.\u001b[0m\u001b[0mfrom_ops\u001b[0m\u001b[0;34m(\u001b[0m\u001b[0mops\u001b[0m\u001b[0;34m)\u001b[0m\u001b[0;34m\u001b[0m\u001b[0m\n\u001b[0;32m----> 7\u001b[0;31m \u001b[0mcirq\u001b[0m\u001b[0;34m.\u001b[0m\u001b[0mgoogle\u001b[0m\u001b[0;34m.\u001b[0m\u001b[0mBristlecone\u001b[0m\u001b[0;34m.\u001b[0m\u001b[0mvalidate_circuit\u001b[0m\u001b[0;34m(\u001b[0m\u001b[0mcircuit\u001b[0m\u001b[0;34m)\u001b[0m\u001b[0;34m\u001b[0m\u001b[0m\n\u001b[0m",
            "\u001b[0;32m/usr/local/lib/python3.6/dist-packages/cirq/google/xmon_device.py\u001b[0m in \u001b[0;36mvalidate_circuit\u001b[0;34m(self, circuit)\u001b[0m\n\u001b[1;32m    146\u001b[0m \u001b[0;34m\u001b[0m\u001b[0m\n\u001b[1;32m    147\u001b[0m     \u001b[0;32mdef\u001b[0m \u001b[0mvalidate_circuit\u001b[0m\u001b[0;34m(\u001b[0m\u001b[0mself\u001b[0m\u001b[0;34m,\u001b[0m \u001b[0mcircuit\u001b[0m\u001b[0;34m:\u001b[0m \u001b[0mcircuits\u001b[0m\u001b[0;34m.\u001b[0m\u001b[0mCircuit\u001b[0m\u001b[0;34m)\u001b[0m\u001b[0;34m:\u001b[0m\u001b[0;34m\u001b[0m\u001b[0m\n\u001b[0;32m--> 148\u001b[0;31m         \u001b[0msuper\u001b[0m\u001b[0;34m(\u001b[0m\u001b[0;34m)\u001b[0m\u001b[0;34m.\u001b[0m\u001b[0mvalidate_circuit\u001b[0m\u001b[0;34m(\u001b[0m\u001b[0mcircuit\u001b[0m\u001b[0;34m)\u001b[0m\u001b[0;34m\u001b[0m\u001b[0m\n\u001b[0m\u001b[1;32m    149\u001b[0m         \u001b[0m_verify_unique_measurement_keys\u001b[0m\u001b[0;34m(\u001b[0m\u001b[0mcircuit\u001b[0m\u001b[0;34m.\u001b[0m\u001b[0mall_operations\u001b[0m\u001b[0;34m(\u001b[0m\u001b[0;34m)\u001b[0m\u001b[0;34m)\u001b[0m\u001b[0;34m\u001b[0m\u001b[0m\n\u001b[1;32m    150\u001b[0m \u001b[0;34m\u001b[0m\u001b[0m\n",
            "\u001b[0;32m/usr/local/lib/python3.6/dist-packages/cirq/devices/device.py\u001b[0m in \u001b[0;36mvalidate_circuit\u001b[0;34m(self, circuit)\u001b[0m\n\u001b[1;32m     83\u001b[0m         \"\"\"\n\u001b[1;32m     84\u001b[0m         \u001b[0;32mfor\u001b[0m \u001b[0mmoment\u001b[0m \u001b[0;32min\u001b[0m \u001b[0mcircuit\u001b[0m\u001b[0;34m:\u001b[0m\u001b[0;34m\u001b[0m\u001b[0m\n\u001b[0;32m---> 85\u001b[0;31m             \u001b[0mself\u001b[0m\u001b[0;34m.\u001b[0m\u001b[0mvalidate_moment\u001b[0m\u001b[0;34m(\u001b[0m\u001b[0mmoment\u001b[0m\u001b[0;34m)\u001b[0m\u001b[0;34m\u001b[0m\u001b[0m\n\u001b[0m\u001b[1;32m     86\u001b[0m \u001b[0;34m\u001b[0m\u001b[0m\n\u001b[1;32m     87\u001b[0m     \u001b[0;32mdef\u001b[0m \u001b[0mvalidate_moment\u001b[0m\u001b[0;34m(\u001b[0m\u001b[0mself\u001b[0m\u001b[0;34m,\u001b[0m \u001b[0mmoment\u001b[0m\u001b[0;34m:\u001b[0m \u001b[0;34m'cirq.Moment'\u001b[0m\u001b[0;34m)\u001b[0m \u001b[0;34m->\u001b[0m \u001b[0;32mNone\u001b[0m\u001b[0;34m:\u001b[0m\u001b[0;34m\u001b[0m\u001b[0m\n",
            "\u001b[0;32m/usr/local/lib/python3.6/dist-packages/cirq/google/xmon_device.py\u001b[0m in \u001b[0;36mvalidate_moment\u001b[0;34m(self, moment)\u001b[0m\n\u001b[1;32m    160\u001b[0m                                 cast(ops.GateOperation, other))):\n\u001b[1;32m    161\u001b[0m                         raise ValueError(\n\u001b[0;32m--> 162\u001b[0;31m                             'Adjacent Exp11 operations: {}.'.format(moment))\n\u001b[0m\u001b[1;32m    163\u001b[0m \u001b[0;34m\u001b[0m\u001b[0m\n\u001b[1;32m    164\u001b[0m     def can_add_operation_into_moment(self,\n",
            "\u001b[0;31mValueError\u001b[0m: Adjacent Exp11 operations: CZ((5, 5), (5, 6)) and CZ((6, 6), (6, 7))."
          ]
        }
      ]
    },
    {
      "metadata": {
        "id": "XkNPbeFDBTL4",
        "colab_type": "text"
      },
      "cell_type": "markdown",
      "source": [
        "But more interestingly we could have passed the device into the `Circuit` and it will perform the creation of the circuit (using the insertion semanics as described above) such that the device cannot violate the constraints."
      ]
    },
    {
      "metadata": {
        "id": "5BOBUIEIBeQ5",
        "colab_type": "code",
        "colab": {
          "base_uri": "https://localhost:8080/",
          "height": 136
        },
        "outputId": "cf368f69-9a8b-4cad-ad74-65b151ebd2cb"
      },
      "cell_type": "code",
      "source": [
        "ops = [cirq.google.Exp11Gate().on(q55, q56), cirq.google.Exp11Gate().on(q66, q67)]\n",
        "circuit = cirq.Circuit(device=cirq.google.Bristlecone)\n",
        "circuit.append(ops)\n",
        "print(circuit)"
      ],
      "execution_count": 0,
      "outputs": [
        {
          "output_type": "stream",
          "text": [
            "(5, 5): ───@───────\n",
            "           │\n",
            "(5, 6): ───@───────\n",
            "\n",
            "(6, 6): ───────@───\n",
            "               │\n",
            "(6, 7): ───────@───\n"
          ],
          "name": "stdout"
        }
      ]
    },
    {
      "metadata": {
        "id": "J9ia4eatUQ_x",
        "colab_type": "text"
      },
      "cell_type": "markdown",
      "source": [
        "### Compiling / Optimizing\n",
        "\n",
        "Cirq includes several circuit optimizers. The simplest way to apply these optimizers is with the `cirq.google.optimized_for_xmon` method, which takes a Circuit and spits out a Circuit that will run on Xmon hardware while attempting to improve the circuit.\n",
        "\n",
        "More generally, it is possible to define your own optimization passes. One particularly useful class for doing so is `PointOptimizer`. A `PointOptimizer` will go over the various operations in a circuit, checking whether a custom method says to do nothing or else to make a change. For example here is a `PointOptimizer` that replaces an `X` gate followed by a `Z` gate with a `Y` gate"
      ]
    },
    {
      "metadata": {
        "id": "l7eFMVe1GEe2",
        "colab_type": "code",
        "colab": {
          "base_uri": "https://localhost:8080/",
          "height": 153
        },
        "outputId": "957821f9-5c44-46e2-cd20-a653cd2350a7"
      },
      "cell_type": "code",
      "source": [
        "class XZOptimizer(cirq.PointOptimizer):\n",
        "    \"\"\"Replaces an X followed by a Z with a Y.\"\"\"\n",
        "    \n",
        "    def optimization_at(self, circuit, index, op):\n",
        "        # Is the gate an X gate?\n",
        "        if len(op.qubits) != 1:\n",
        "            return None\n",
        "        q = op.qubits[0]\n",
        "        if op != cirq.X(q):\n",
        "            return None\n",
        "        next_op_index = circuit.next_moment_operating_on([q], index + 1)\n",
        "        if next_op_index is None:\n",
        "            return None\n",
        "        next_op = circuit.operation_at(q, next_op_index)\n",
        "        if next_op != cirq.Z(q):\n",
        "            return None\n",
        "        new_op = cirq.Y(q)\n",
        "\n",
        "        return cirq.PointOptimizationSummary(\n",
        "            clear_span = next_op_index - index + 1,\n",
        "            clear_qubits=[q], \n",
        "            new_operations=[new_op])\n",
        "        \n",
        "opt = XZOptimizer()\n",
        "circuit = cirq.Circuit.from_ops(cirq.CZ(a, b), cirq.X(a), cirq.Z(a), cirq.CZ(a, b), cirq.X(a))\n",
        "print('Before\\n{}'. format(circuit))\n",
        "opt.optimize_circuit(circuit)\n",
        "print('After\\n{}'.format(circuit))"
      ],
      "execution_count": 0,
      "outputs": [
        {
          "output_type": "stream",
          "text": [
            "Before\n",
            "a: ───@───X───Z───@───X───\n",
            "      │           │\n",
            "b: ───@───────────@───────\n",
            "After\n",
            "a: ───@───Y───@───X───\n",
            "      │       │\n",
            "b: ───@───────@───────\n"
          ],
          "name": "stdout"
        }
      ]
    },
    {
      "metadata": {
        "id": "--aUfkiaUb3S",
        "colab_type": "text"
      },
      "cell_type": "markdown",
      "source": [
        "### Exercise: Simplify flipped CNOTs\n",
        "\n",
        "Write a PointOptimizer that performs the following simplification:\n",
        "\n",
        "```\n",
        "a: ───H───@───H───            a: ───X───\n",
        "          │           ---->         │\n",
        "b: ───H───X───H───            b: ───@───\n",
        "```\n",
        "\n",
        "\n",
        "\n"
      ]
    },
    {
      "metadata": {
        "id": "S0PThmctKFxl",
        "colab_type": "code",
        "colab": {
          "base_uri": "https://localhost:8080/",
          "height": 130
        },
        "outputId": "2845aecf-27d1-48a9-aab2-3e2722c56a23"
      },
      "cell_type": "code",
      "source": [
        "class HCNotOptimizer(cirq.PointOptimizer):\n",
        "    def optimization_at(self, circuit, index, op):\n",
        "\n",
        "        \n",
        "        \n",
        "        # Insert your code here.\n",
        "\n",
        "        \n",
        "        \n",
        "        return cirq.PointOptimizationSummary(\n",
        "            clear_span=???,\n",
        "            clear_qubits=???, \n",
        "            new_operations=???)\n",
        "\n",
        "    \n",
        "opt = HCNotOptimizer()\n",
        "circuit = cirq.Circuit.from_ops(\n",
        "    cirq.H(a), cirq.H(b),\n",
        "    cirq.CZ(a, b),\n",
        "    cirq.H(a), cirq.H(b),\n",
        "    cirq.CNOT(a, b),\n",
        "    cirq.H(a), cirq.H(b),\n",
        "    cirq.CNOT(a, b),\n",
        ")\n",
        "print('Before\\n{}'. format(circuit))\n",
        "opt.optimize_circuit(circuit)\n",
        "print('After\\n{}'.format(circuit))\n"
      ],
      "execution_count": 0,
      "outputs": [
        {
          "output_type": "error",
          "ename": "SyntaxError",
          "evalue": "ignored",
          "traceback": [
            "\u001b[0;36m  File \u001b[0;32m\"<ipython-input-29-b4e84ad6aad0>\"\u001b[0;36m, line \u001b[0;32m11\u001b[0m\n\u001b[0;31m    clear_span=???,\u001b[0m\n\u001b[0m               ^\u001b[0m\n\u001b[0;31mSyntaxError\u001b[0m\u001b[0;31m:\u001b[0m invalid syntax\n"
          ]
        }
      ]
    },
    {
      "metadata": {
        "id": "AIaPBvx1XlyP",
        "colab_type": "text"
      },
      "cell_type": "markdown",
      "source": [
        "### Bernstein-Vazirani algorithm Example\n"
      ]
    },
    {
      "metadata": {
        "id": "dWXdMPDrX-Sv",
        "colab_type": "code",
        "colab": {}
      },
      "cell_type": "code",
      "source": [
        "import random\n",
        "import cirq"
      ],
      "execution_count": 0,
      "outputs": []
    },
    {
      "metadata": {
        "id": "-KtqJhYtXm_9",
        "colab_type": "code",
        "colab": {}
      },
      "cell_type": "code",
      "source": [
        "def make_oracle(input_qubits,\n",
        "                output_qubit,\n",
        "                secret_factor_bits,\n",
        "                secret_bias_bit):\n",
        "    \"\"\"Gates implementing the function f(a) = a·factors + bias (mod 2).\"\"\"\n",
        "\n",
        "    if secret_bias_bit:\n",
        "        yield cirq.X(output_qubit)\n",
        "\n",
        "    for qubit, bit in zip(input_qubits, secret_factor_bits):\n",
        "        if bit:\n",
        "            yield cirq.CNOT(qubit, output_qubit)"
      ],
      "execution_count": 0,
      "outputs": []
    },
    {
      "metadata": {
        "id": "h3RNpwlnXvmA",
        "colab_type": "code",
        "colab": {}
      },
      "cell_type": "code",
      "source": [
        "def make_bernstein_vazirani_circuit(input_qubits, output_qubit, oracle):\n",
        "    \"\"\"Solves for factors in f(a) = a·factors + bias (mod 2) with one query.\"\"\"\n",
        "\n",
        "    c = cirq.Circuit()\n",
        "\n",
        "    # Initialize qubits.\n",
        "    c.append([\n",
        "        cirq.X(output_qubit),\n",
        "        cirq.H(output_qubit),\n",
        "        cirq.H.on_each(input_qubits),\n",
        "    ])\n",
        "\n",
        "    # Query oracle.\n",
        "    c.append(oracle)\n",
        "\n",
        "    # Measure in X basis.\n",
        "    c.append([\n",
        "        cirq.H.on_each(input_qubits),\n",
        "        cirq.measure(*input_qubits, key='result')\n",
        "    ])\n",
        "\n",
        "    return c"
      ],
      "execution_count": 0,
      "outputs": []
    },
    {
      "metadata": {
        "id": "FW10bOutXwRL",
        "colab_type": "code",
        "colab": {}
      },
      "cell_type": "code",
      "source": [
        "def bitstring(bits):\n",
        "    return ''.join(str(int(b)) for b in bits)"
      ],
      "execution_count": 0,
      "outputs": []
    },
    {
      "metadata": {
        "id": "FEoZl9l2XydL",
        "colab_type": "code",
        "colab": {
          "base_uri": "https://localhost:8080/",
          "height": 420
        },
        "outputId": "064182d3-b711-4e40-9bf4-1638ee994f71"
      },
      "cell_type": "code",
      "source": [
        "def main():\n",
        "    qubit_count = 8\n",
        "    circuit_sample_count = 3\n",
        "\n",
        "    # Choose qubits to use.\n",
        "    input_qubits = [cirq.GridQubit(i, 0) for i in range(qubit_count)]\n",
        "    output_qubit = cirq.GridQubit(qubit_count, 0)\n",
        "\n",
        "    # Pick coefficients for the oracle and create a circuit to query it.\n",
        "    secret_bias_bit = random.randint(0, 1)\n",
        "    secret_factor_bits = [random.randint(0, 1) for _ in range(qubit_count)]\n",
        "    oracle = make_oracle(input_qubits,\n",
        "                         output_qubit,\n",
        "                         secret_factor_bits,\n",
        "                         secret_bias_bit)\n",
        "    print('Secret function:\\nf(a) = a·<{}> + {} (mod 2)'.format(\n",
        "        ', '.join(str(e) for e in secret_factor_bits),\n",
        "        secret_bias_bit))\n",
        "\n",
        "    # Embed the oracle into a special quantum circuit querying it exactly once.\n",
        "    circuit = make_bernstein_vazirani_circuit(\n",
        "        input_qubits, output_qubit, oracle)\n",
        "    print('Circuit:')\n",
        "    print(circuit)\n",
        "\n",
        "    # Sample from the circuit a couple times.\n",
        "    simulator = cirq.google.XmonSimulator()\n",
        "    result = simulator.run(circuit, repetitions=circuit_sample_count)\n",
        "    frequencies = result.histogram(key='result', fold_func=bitstring)\n",
        "    print('Sampled results:\\n{}'.format(frequencies))\n",
        "\n",
        "    # Check if we actually found the secret value.\n",
        "    most_common_bitstring = frequencies.most_common(1)[0][0]\n",
        "    print('Most common matches secret factors:\\n{}'.format(\n",
        "        most_common_bitstring == bitstring(secret_factor_bits)))\n",
        "\n",
        "\n",
        "\n",
        "if __name__ == '__main__':\n",
        "    main()"
      ],
      "execution_count": 24,
      "outputs": [
        {
          "output_type": "stream",
          "text": [
            "Secret function:\n",
            "f(a) = a·<0, 1, 0, 1, 1, 0, 1, 1> + 0 (mod 2)\n",
            "Circuit:\n",
            "(0, 0): ───────H───────────────────────H───M('result')───\n",
            "                                           │\n",
            "(1, 0): ───────H───@───────────────────H───M─────────────\n",
            "                   │                       │\n",
            "(2, 0): ───────H───┼───────────────────H───M─────────────\n",
            "                   │                       │\n",
            "(3, 0): ───────H───┼───@───────────────H───M─────────────\n",
            "                   │   │                   │\n",
            "(4, 0): ───────H───┼───┼───@───────────H───M─────────────\n",
            "                   │   │   │               │\n",
            "(5, 0): ───────H───┼───┼───┼───────────H───M─────────────\n",
            "                   │   │   │               │\n",
            "(6, 0): ───────H───┼───┼───┼───@───────H───M─────────────\n",
            "                   │   │   │   │           │\n",
            "(7, 0): ───────H───┼───┼───┼───┼───@───H───M─────────────\n",
            "                   │   │   │   │   │\n",
            "(8, 0): ───X───H───X───X───X───X───X─────────────────────\n",
            "Sampled results:\n",
            "Counter({'01011011': 3})\n",
            "Most common matches secret factors:\n",
            "True\n"
          ],
          "name": "stdout"
        }
      ]
    },
    {
      "metadata": {
        "id": "RAItiw0aYAqU",
        "colab_type": "code",
        "colab": {}
      },
      "cell_type": "code",
      "source": [
        ""
      ],
      "execution_count": 0,
      "outputs": []
    }
  ]
}